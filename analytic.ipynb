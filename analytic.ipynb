{
 "cells": [
  {
   "cell_type": "code",
   "execution_count": 2,
   "id": "honest-intersection",
   "metadata": {},
   "outputs": [
    {
     "name": "stderr",
     "output_type": "stream",
     "text": [
      "<ipython-input-2-6b64ba1c6bdf>:7: MatplotlibDeprecationWarning: Support for setting the 'text.latex.preamble' or 'pgf.preamble' rcParam to a list of strings is deprecated since 3.3 and will be removed two minor releases later; set it to a single string instead.\n",
      "  matplotlib.rcParams['text.latex.preamble']=[r\"\\usepackage{amsmath}\"]\n",
      "Matplotlib created a temporary config/cache directory at /tmp/matplotlib-k4fyiii0 because the default path (/home/jovyan/.cache/matplotlib) is not a writable directory; it is highly recommended to set the MPLCONFIGDIR environment variable to a writable directory, in particular to speed up the import of Matplotlib and to better support multiprocessing.\n"
     ]
    }
   ],
   "source": [
    "import numpy as np\n",
    "import sympy as sp\n",
    "from   mpmath import fp\n",
    "\n",
    "#--matplotlib\n",
    "import matplotlib\n",
    "matplotlib.rcParams['text.latex.preamble']=[r\"\\usepackage{amsmath}\"]\n",
    "#matplotlib.rc('font',**{'family':'sans-serif','sans-serif':['Helvetica']})\n",
    "matplotlib.rc('text',usetex=True)\n",
    "import pylab  as py\n",
    "from matplotlib.lines import Line2D\n",
    "\n",
    "from scipy.integrate import fixed_quad,quad\n",
    "from sympy.parsing.sympy_parser import parse_expr\n",
    "from scipy.special import jv\n",
    "from scipy.special import kv\n",
    "\n",
    "#--symbolic python\n",
    "import sympy as sp\n",
    "from sympy.parsing.sympy_parser import parse_expr\n",
    "from sympy import mathematica_code as mcode\n",
    "from sympy.utilities.lambdify import lambdastr\n",
    "from IPython.display import display, Math, Latex\n",
    "lprint=lambda expression: display(Math(sp.latex(expression)))"
   ]
  },
  {
   "cell_type": "code",
   "execution_count": 3,
   "id": "worth-kelly",
   "metadata": {},
   "outputs": [],
   "source": [
    "lam=sp.symbols('\\lambda')\n",
    "Q2=sp.symbols('Q2')\n",
    "Q02=sp.symbols('Q_02')\n",
    "x=sp.symbols('x')\n"
   ]
  },
  {
   "cell_type": "code",
   "execution_count": 4,
   "id": "vital-investing",
   "metadata": {},
   "outputs": [
    {
     "data": {
      "text/latex": [
       "$\\displaystyle \\log{\\left(\\frac{\\log{\\left(\\frac{Q_{2}}{\\lambda^{2}} \\right)}}{\\log{\\left(\\frac{Q_{02}}{\\lambda^{2}} \\right)}} \\right)}$"
      ],
      "text/plain": [
       "log(log(Q2/\\lambda**2)/log(Q_02/\\lambda**2))"
      ]
     },
     "execution_count": 4,
     "metadata": {},
     "output_type": "execute_result"
    }
   ],
   "source": [
    "s=sp.log(sp.log(Q2/lam**2)/sp.log(Q02/lam**2))\n",
    "s"
   ]
  },
  {
   "cell_type": "code",
   "execution_count": 5,
   "id": "instructional-principle",
   "metadata": {},
   "outputs": [],
   "source": [
    "p0,p1,p2=sp.symbols('p_0,p_1,p_2')"
   ]
  },
  {
   "cell_type": "code",
   "execution_count": 6,
   "id": "valid-albany",
   "metadata": {},
   "outputs": [
    {
     "data": {
      "text/latex": [
       "$\\displaystyle p_{0} + p_{1} \\log{\\left(\\frac{\\log{\\left(\\frac{Q_{2}}{\\lambda^{2}} \\right)}}{\\log{\\left(\\frac{Q_{02}}{\\lambda^{2}} \\right)}} \\right)} + p_{2} \\log{\\left(\\frac{\\log{\\left(\\frac{Q_{2}}{\\lambda^{2}} \\right)}}{\\log{\\left(\\frac{Q_{02}}{\\lambda^{2}} \\right)}} \\right)}^{2}$"
      ],
      "text/plain": [
       "p_0 + p_1*log(log(Q2/\\lambda**2)/log(Q_02/\\lambda**2)) + p_2*log(log(Q2/\\lambda**2)/log(Q_02/\\lambda**2))**2"
      ]
     },
     "execution_count": 6,
     "metadata": {},
     "output_type": "execute_result"
    }
   ],
   "source": [
    "P=p0+p1*s+p2*s**2\n",
    "P"
   ]
  },
  {
   "cell_type": "code",
   "execution_count": 7,
   "id": "polish-wagner",
   "metadata": {},
   "outputs": [
    {
     "data": {
      "text/latex": [
       "$\\displaystyle \\frac{p_{1}}{Q_{2} \\log{\\left(\\frac{Q_{2}}{\\lambda^{2}} \\right)}} + \\frac{2 p_{2} \\log{\\left(\\frac{\\log{\\left(\\frac{Q_{2}}{\\lambda^{2}} \\right)}}{\\log{\\left(\\frac{Q_{02}}{\\lambda^{2}} \\right)}} \\right)}}{Q_{2} \\log{\\left(\\frac{Q_{2}}{\\lambda^{2}} \\right)}}$"
      ],
      "text/plain": [
       "p_1/(Q2*log(Q2/\\lambda**2)) + 2*p_2*log(log(Q2/\\lambda**2)/log(Q_02/\\lambda**2))/(Q2*log(Q2/\\lambda**2))"
      ]
     },
     "execution_count": 7,
     "metadata": {},
     "output_type": "execute_result"
    }
   ],
   "source": [
    "sp.Derivative(P,Q2,evaluate=True)"
   ]
  },
  {
   "cell_type": "code",
   "execution_count": 8,
   "id": "conceptual-infection",
   "metadata": {},
   "outputs": [
    {
     "name": "stdout",
     "output_type": "stream",
     "text": [
      "p_1/(Q2*log(Q2/\\lambda**2)) + 2*p_2*log(log(Q2/\\lambda**2)/log(Q_02/\\lambda**2))/(Q2*log(Q2/\\lambda**2))\n"
     ]
    }
   ],
   "source": [
    "print(sp.Derivative(P,Q2,evaluate=True))"
   ]
  },
  {
   "cell_type": "code",
   "execution_count": 9,
   "id": "complicated-assurance",
   "metadata": {},
   "outputs": [],
   "source": [
    "A,a,b,c,d,e=sp.symbols('A,a,b,c,d,e')"
   ]
  },
  {
   "cell_type": "code",
   "execution_count": 10,
   "id": "retained-helmet",
   "metadata": {},
   "outputs": [
    {
     "data": {
      "text/latex": [
       "$\\displaystyle A x^{a} \\left(1 - x\\right)^{b} \\left(c x + d x^{2} + e x^{3} + 1\\right)$"
      ],
      "text/plain": [
       "A*x**a*(1 - x)**b*(c*x + d*x**2 + e*x**3 + 1)"
      ]
     },
     "execution_count": 10,
     "metadata": {},
     "output_type": "execute_result"
    }
   ],
   "source": [
    "pdf=A*x**a*(1-x)**b*(1+c*x+d*x**2+e*x**3)\n",
    "pdf"
   ]
  },
  {
   "cell_type": "code",
   "execution_count": 11,
   "id": "incomplete-brown",
   "metadata": {},
   "outputs": [
    {
     "name": "stdout",
     "output_type": "stream",
     "text": [
      "dpdfdA= x**a*(1 - x)**b*(c*x + d*x**2 + e*x**3 + 1)\n",
      "dpdfda= A*x**a*(1 - x)**b*(c*x + d*x**2 + e*x**3 + 1)*log(x)\n",
      "dpdfdb= A*x**a*(1 - x)**b*(c*x + d*x**2 + e*x**3 + 1)*log(1 - x)\n",
      "dpdfdc= A*x*x**a*(1 - x)**b\n",
      "dpdfdd= A*x**2*x**a*(1 - x)**b\n",
      "dpdfde= A*x**3*x**a*(1 - x)**b\n"
     ]
    }
   ],
   "source": [
    "print('dpdfdA=',sp.Derivative(pdf,A,evaluate=True))\n",
    "print('dpdfda=',sp.Derivative(pdf,a,evaluate=True))\n",
    "print('dpdfdb=',sp.Derivative(pdf,b,evaluate=True))\n",
    "print('dpdfdc=',sp.Derivative(pdf,c,evaluate=True))\n",
    "print('dpdfdd=',sp.Derivative(pdf,d,evaluate=True))\n",
    "print('dpdfde=',sp.Derivative(pdf,e,evaluate=True))"
   ]
  },
  {
   "cell_type": "code",
   "execution_count": null,
   "id": "moved-prize",
   "metadata": {},
   "outputs": [],
   "source": []
  },
  {
   "cell_type": "code",
   "execution_count": 25,
   "id": "marine-identity",
   "metadata": {},
   "outputs": [],
   "source": [
    "N=sp.symbols('N', real = True)\n",
    "a=sp.symbols('a', real = True)\n",
    "CF=sp.symbols('C_F', real = True)\n",
    "x=sp.symbols('x', real = True)\n",
    "S1=sp.symbols('S_1', real = True)\n",
    "\n",
    "beta=lambda a,b: sp.gamma(a)*sp.gamma(b)/sp.gamma(a+b)"
   ]
  },
  {
   "cell_type": "markdown",
   "id": "paperback-soldier",
   "metadata": {},
   "source": [
    "# Splitting kernels\n",
    "\n",
    "\n",
    "$P_{qq} = C_F\\left[\\frac{1+x^2}{(1-x)_+} + \\frac{3}{2}\\delta(1-x)\\right]$\n",
    "\n"
   ]
  },
  {
   "cell_type": "code",
   "execution_count": 58,
   "id": "naked-hopkins",
   "metadata": {},
   "outputs": [
    {
     "data": {
      "text/latex": [
       "$\\displaystyle C_{F} \\left(- 2 S_{1} + \\frac{3}{2} - \\frac{1}{N + 1} + \\frac{1}{N}\\right)$"
      ],
      "text/plain": [
       "C_F*(-2*S_1 + 3/2 - 1/(N + 1) + 1/N)"
      ]
     },
     "execution_count": 58,
     "metadata": {},
     "output_type": "execute_result"
    }
   ],
   "source": [
    "expr=CF*(beta(N,a)-beta(1,a) + beta(N+2,a)-beta(1,a) + 3/sp.S(2))\n",
    "expr=sp.limit(expr,a,0)\n",
    "expr=expr.replace( sp.polygamma(0,N+2), sp.polygamma(0,N+1)+1/(N+1))\n",
    "#expr=expr.replace( sp.polygamma(0,N+1), sp.polygamma(0,N+0)+1/(N+0))\n",
    "expr=expr.replace(sp.polygamma(0,N+0), sp.polygamma(0,N+1)-1/(N+0))\n",
    "\n",
    "expr=expr.replace(sp.polygamma(0,N+1),S1-sp.EulerGamma)\n",
    "#expr=expr.simplify()\n",
    "expr"
   ]
  },
  {
   "cell_type": "code",
   "execution_count": null,
   "id": "quantitative-contact",
   "metadata": {},
   "outputs": [],
   "source": []
  },
  {
   "cell_type": "code",
   "execution_count": 59,
   "id": "pharmaceutical-terrorist",
   "metadata": {},
   "outputs": [
    {
     "data": {
      "text/latex": [
       "$\\displaystyle C_{F} \\left(- 4 S_{1} + 3 + \\frac{2}{N \\left(N + 1\\right)}\\right)$"
      ],
      "text/plain": [
       "C_F*(-4*S_1 + 3 + 2/(N*(N + 1)))"
      ]
     },
     "execution_count": 59,
     "metadata": {},
     "output_type": "execute_result"
    }
   ],
   "source": [
    "CF*(3+2/N/(N+1)-4*S1)"
   ]
  },
  {
   "cell_type": "code",
   "execution_count": null,
   "id": "subtle-rochester",
   "metadata": {},
   "outputs": [],
   "source": []
  },
  {
   "cell_type": "code",
   "execution_count": null,
   "id": "private-olive",
   "metadata": {},
   "outputs": [],
   "source": []
  },
  {
   "cell_type": "code",
   "execution_count": null,
   "id": "recorded-foster",
   "metadata": {},
   "outputs": [],
   "source": []
  },
  {
   "cell_type": "code",
   "execution_count": null,
   "id": "physical-webmaster",
   "metadata": {},
   "outputs": [],
   "source": []
  },
  {
   "cell_type": "code",
   "execution_count": null,
   "id": "weird-pocket",
   "metadata": {},
   "outputs": [],
   "source": []
  },
  {
   "cell_type": "code",
   "execution_count": null,
   "id": "congressional-salem",
   "metadata": {},
   "outputs": [],
   "source": []
  },
  {
   "cell_type": "code",
   "execution_count": null,
   "id": "ecological-durham",
   "metadata": {},
   "outputs": [],
   "source": []
  },
  {
   "cell_type": "code",
   "execution_count": null,
   "id": "improved-liabilities",
   "metadata": {},
   "outputs": [],
   "source": []
  }
 ],
 "metadata": {
  "kernelspec": {
   "display_name": "Python 3",
   "language": "python",
   "name": "python3"
  },
  "language_info": {
   "codemirror_mode": {
    "name": "ipython",
    "version": 3
   },
   "file_extension": ".py",
   "mimetype": "text/x-python",
   "name": "python",
   "nbconvert_exporter": "python",
   "pygments_lexer": "ipython3",
   "version": "3.8.6"
  }
 },
 "nbformat": 4,
 "nbformat_minor": 5
}
